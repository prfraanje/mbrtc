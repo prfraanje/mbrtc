{
 "cells": [
  {
   "cell_type": "markdown",
   "metadata": {},
   "source": [
    "# Pole-placement ontwerp (state-space benadering)\n",
    "1. Control-system design (§4.2)\n",
    "2. Regelen met state-feedback (§4.3)\n",
    "3. Deadbeat Control (§4.3)"
   ]
  },
  {
   "cell_type": "code",
   "execution_count": null,
   "metadata": {},
   "outputs": [],
   "source": [
    "import numpy as np\n",
    "from numpy.linalg import eig,inv\n",
    "import matplotlib.pyplot as plt\n",
    "from mbrtc import *\n",
    "\n",
    "# vgl. Example 4.1\n",
    "h = 0.1\n",
    "# discrete time system\n",
    "A = np.array([[1.,h],[0.,1.]])\n",
    "B = np.array([[h**2/2],[h]])\n",
    "C = np.array([[1.0,0.0]])\n",
    "D = np.array([[0.]])\n",
    "\n",
    "print(f\"Polen van niet geregelde discrete tijd systeem: {eig(A)[0]}\")\n"
   ]
  },
  {
   "cell_type": "code",
   "execution_count": null,
   "metadata": {},
   "outputs": [],
   "source": [
    "w_desired           = 2.  # desired resonance frequency of continuous-time poles\n",
    "zeta_desired        = 1.  # desired damping ratio of continuous-time poles\n",
    "char_poly_cont      = np.array([1., 2*zeta_desired*w_desired, w_desired**2])\n",
    "poles_desired_cont  = np.roots(char_poly_cont)\n",
    "poles_desired_discr = np.exp(poles_desired_cont*h)\n",
    "char_poly_discr     = np.poly(poles_desired_discr)\n",
    "\n",
    "print(f\"Gewenste polen in continue tijd: {poles_desired_cont}\")\n",
    "print(f\"Gewenste polen in discrete tijd: {poles_desired_discr}\")\n",
    "print(f\"Gewenste karakteristieke polynoom (discrete tijd): {char_poly_discr}\")\n"
   ]
  },
  {
   "cell_type": "code",
   "execution_count": null,
   "metadata": {},
   "outputs": [],
   "source": [
    "\n",
    "p1 = char_poly_discr[1]\n",
    "p2 = char_poly_discr[2]\n",
    "\n",
    "# See book example 4.1\n",
    "l1 = (1+p1+p2)/h**2\n",
    "l2 = (3+p1-p2)/(2*h)\n",
    "\n",
    "L = np.array([[l1,l2]])\n",
    "\n",
    "A_closed_loop = A - B @ L\n",
    "\n",
    "print(f\"Polen van geregelde discrete tijd systeem: {eig(A_closed_loop)[0]}\")\n",
    "\n"
   ]
  },
  {
   "cell_type": "code",
   "execution_count": null,
   "metadata": {},
   "outputs": [],
   "source": [
    "NS = 100\n",
    "td = np.arange(NS)*h\n",
    "u = np.zeros((NS)); # no input\n",
    "x0 = np.ones((2))   # initial state\n",
    "\n",
    "y_open_loop = sim(A,B,C,D,u,x0)\n",
    "y_closed_loop = sim(A_closed_loop,B,C,D,u,x0)\n",
    "\n",
    "u_closed_loop = sim(A_closed_loop,B,-L,np.zeros((1,1)),u,x0)\n",
    "\n",
    "\n",
    "plt.plot(td,y_open_loop,'b')\n",
    "plt.plot(td,y_closed_loop,'g')\n",
    "\n",
    "plt.figure()\n",
    "plt.step(td,u_closed_loop,where='post')"
   ]
  },
  {
   "cell_type": "code",
   "execution_count": null,
   "metadata": {},
   "outputs": [],
   "source": [
    "print(f\"L={L}\")\n",
    "L_computed_with_place = place(A,B,poles_desired_discr)\n",
    "print(f\"L_computed_with_place\",L_computed_with_place)"
   ]
  },
  {
   "cell_type": "code",
   "execution_count": null,
   "metadata": {},
   "outputs": [],
   "source": [
    "help(place)"
   ]
  },
  {
   "cell_type": "code",
   "execution_count": null,
   "metadata": {},
   "outputs": [],
   "source": [
    "# deadbeat control:\n",
    "poles_desired = np.array([0.,0.])\n",
    "L_db = place(A,B,poles_desired)\n",
    "\n",
    "NS = 100\n",
    "td = np.arange(NS)*h\n",
    "u = np.zeros((NS)); # no input\n",
    "x0 = np.ones((2)) # initial state\n",
    "\n",
    "y_open_loop = sim(A,B,C,D,u,x0)\n",
    "y_closed_loop = sim(A - B @ L_db,B,C,D,u,x0)\n",
    "\n",
    "u_closed_loop = sim(A - B @ L_db,B,-L_db,D,u,x0)\n",
    "\n",
    "#plt.plot(td,y_open_loop,'b')\n",
    "plt.plot(td,y_closed_loop,'g')\n",
    "\n",
    "plt.figure()\n",
    "plt.step(td,u_closed_loop,where='post')\n"
   ]
  },
  {
   "cell_type": "code",
   "execution_count": null,
   "metadata": {},
   "outputs": [],
   "source": [
    "# DC_gain is gain from u_desired to y\n",
    "DC_gain = dc_gain(A_closed_loop,B,C,D); #C @ inv(np.eye(2)-A+B@L) @ B\n",
    "# u[k] = -L x[k] + alpha * u_desired[k]\n",
    "# choose alpha = 1/DC_gain such that DC gain from u_desired to y is one\n",
    "alpha = 1/DC_gain[0,0]\n",
    "DC_gain"
   ]
  },
  {
   "cell_type": "code",
   "execution_count": null,
   "metadata": {
    "scrolled": true
   },
   "outputs": [],
   "source": [
    "# tracking step signal:\n",
    "NS = 100\n",
    "td = np.arange(NS)*h\n",
    "u_desired = np.ones((NS)); # step input\n",
    "x0 = np.zeros((2)) # zero initial state\n",
    "\n",
    "y_open_loop = sim(A,B,C,D,u_desired,x0)\n",
    "# u[k] = -L x[k] + alpha * u_desired[k]\n",
    "y_closed_loop = sim(A_closed_loop,B*alpha,C,D,u_desired,x0)\n",
    "\n",
    "u_closed_loop = sim(A_closed_loop,B*alpha,-L,np.array([[alpha]]),u_desired,x0)\n",
    "\n",
    "#plt.plot(td,u_desired,'r')\n",
    "#plt.plot(td,y_open_loop,'b')\n",
    "\n",
    "plt.figure()\n",
    "plt.plot(td,u_desired,'r')\n",
    "plt.plot(td,y_closed_loop,'g')\n",
    "\n",
    "plt.figure()\n",
    "plt.step(td,u_closed_loop,where='post')"
   ]
  },
  {
   "cell_type": "code",
   "execution_count": null,
   "metadata": {},
   "outputs": [],
   "source": []
  }
 ],
 "metadata": {
  "kernelspec": {
   "display_name": "Python 3",
   "language": "python",
   "name": "python3"
  },
  "language_info": {
   "codemirror_mode": {
    "name": "ipython",
    "version": 3
   },
   "file_extension": ".py",
   "mimetype": "text/x-python",
   "name": "python",
   "nbconvert_exporter": "python",
   "pygments_lexer": "ipython3",
   "version": "3.7.3"
  },
  "latex_envs": {
   "LaTeX_envs_menu_present": true,
   "autoclose": false,
   "autocomplete": true,
   "bibliofile": "biblio.bib",
   "cite_by": "apalike",
   "current_citInitial": 1,
   "eqLabelWithNumbers": true,
   "eqNumInitial": 1,
   "hotkeys": {
    "equation": "Ctrl-E",
    "itemize": "Ctrl-I"
   },
   "labels_anchors": false,
   "latex_user_defs": false,
   "report_style_numbering": false,
   "user_envs_cfg": false
  }
 },
 "nbformat": 4,
 "nbformat_minor": 2
}
